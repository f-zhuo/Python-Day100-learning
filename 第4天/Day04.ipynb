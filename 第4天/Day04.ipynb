{
 "cells": [
  {
   "cell_type": "markdown",
   "metadata": {},
   "source": [
    "循环结构：\n",
    "1.for-in循环：一般用于知道循环次数或者对容器迭代的情况\n",
    "2.while循环：一般用于不知道循环次数的情况"
   ]
  },
  {
   "cell_type": "code",
   "execution_count": 3,
   "metadata": {},
   "outputs": [
    {
     "name": "stdout",
     "output_type": "stream",
     "text": [
      "5050\n"
     ]
    }
   ],
   "source": [
    "\"\"\"for-in:用for循环实现1-100求和\"\"\"\n",
    "sum=0\n",
    "for i in range(1,101):   #range(101):产生一个0到100的整数序列\n",
    "    sum+=i\n",
    "print(sum)"
   ]
  },
  {
   "cell_type": "code",
   "execution_count": 4,
   "metadata": {},
   "outputs": [
    {
     "name": "stdout",
     "output_type": "stream",
     "text": [
      "2550\n"
     ]
    }
   ],
   "source": [
    "'''用for循环实现1-100的偶数和'''\n",
    "sum=0\n",
    "for i in range(1,101,2):\n",
    "    sum+=i\n",
    "print(sum)"
   ]
  },
  {
   "cell_type": "code",
   "execution_count": 5,
   "metadata": {},
   "outputs": [
    {
     "name": "stdout",
     "output_type": "stream",
     "text": [
      "2550\n"
     ]
    }
   ],
   "source": [
    "'''用分支结构实现1-100的偶数和'''\n",
    "sum=0\n",
    "for i in range(1,101):\n",
    "    if i % 2 ==0:\n",
    "        sum+=i\n",
    "    else:          # 不满足可直接略过\n",
    "        pass\n",
    "print(sum)\n"
   ]
  },
  {
   "cell_type": "code",
   "execution_count": 10,
   "metadata": {},
   "outputs": [
    {
     "name": "stdout",
     "output_type": "stream",
     "text": [
      "请输入您猜测的数字：50\n",
      "您输入的值小了！\n",
      "请输入您猜测的数字：75\n",
      "您输入的值大了！\n",
      "请输入您猜测的数字：63\n",
      "您输入的值大了！\n",
      "请输入您猜测的数字：56\n",
      "您猜测了4次即回答正确！您真是个天才！\n"
     ]
    }
   ],
   "source": [
    "'''while循环实现猜数字'''\n",
    "# import random \n",
    "# r=random.randint(1,100)\n",
    "from random import randint\n",
    "r=randint(1,100)\n",
    "'''注意import...（模块.函数）及from...import...（直接使用函数）的区别'''\n",
    "count=0\n",
    "'''无限循环，需要一个中断指令'''\n",
    "while True:  \n",
    "    number=int(input('请输入您猜测的数字：'))\n",
    "    count+=1\n",
    "    if number>r and count<=7:\n",
    "        print('您输入的值大了！')\n",
    "    elif number<r and count<=7:\n",
    "        print('您输入的值小了！')\n",
    "    elif number==r and count<=7:\n",
    "        print('您猜测了{:}次即回答正确！您真是个天才！'.format(count))\n",
    "        break\n",
    "    else:\n",
    "        print('您已经7次猜错，智商需要充值！')\n",
    "        break\n",
    "    "
   ]
  },
  {
   "cell_type": "code",
   "execution_count": 15,
   "metadata": {},
   "outputs": [
    {
     "name": "stdout",
     "output_type": "stream",
     "text": [
      "1*1=1 \n",
      "1*2=2 2*2=4 \n",
      "1*3=3 2*3=6 3*3=9 \n",
      "1*4=4 2*4=8 3*4=12 4*4=16 \n",
      "1*5=5 2*5=10 3*5=15 4*5=20 5*5=25 \n",
      "1*6=6 2*6=12 3*6=18 4*6=24 5*6=30 6*6=36 \n",
      "1*7=7 2*7=14 3*7=21 4*7=28 5*7=35 6*7=42 7*7=49 \n",
      "1*8=8 2*8=16 3*8=24 4*8=32 5*8=40 6*8=48 7*8=56 8*8=64 \n",
      "1*9=9 2*9=18 3*9=27 4*9=36 5*9=45 6*9=54 7*9=63 8*9=72 9*9=81 \n"
     ]
    }
   ],
   "source": [
    "'''循环嵌套输出九九乘法表'''\n",
    "for i in range(1,10):\n",
    "    for j in range(1,i+1):\n",
    "        print('{:}*{:}={:}'.format(j,i,i*j),end=' ')\n",
    "    print()"
   ]
  },
  {
   "cell_type": "code",
   "execution_count": 6,
   "metadata": {},
   "outputs": [
    {
     "name": "stdout",
     "output_type": "stream",
     "text": [
      "请输入一个正整数：16\n",
      "16不为素数。\n"
     ]
    },
    {
     "data": {
      "text/plain": [
       "\"\\nif number==1:\\n    print('{:}不为素数。'.format(number))\\nif number==2:\\n    print('{:}为素数。'.format(number))\\n\""
      ]
     },
     "execution_count": 6,
     "metadata": {},
     "output_type": "execute_result"
    }
   ],
   "source": [
    "'''输入正整数判断是否为素数'''\n",
    "number=int(input('请输入一个正整数：'))\n",
    "for i in range(2,number):\n",
    "    if number%i==0:\n",
    "        print('{:}不为素数。'.format(number))\n",
    "        break\n",
    "    else:\n",
    "        pass\n",
    "        if i==number-1:\n",
    "            print('{:}为素数。'.format(number))\n",
    "'''\n",
    "if number==1:\n",
    "    print('{:}不为素数。'.format(number))\n",
    "if number==2:\n",
    "    print('{:}为素数。'.format(number))\n",
    "'''"
   ]
  },
  {
   "cell_type": "code",
   "execution_count": 31,
   "metadata": {},
   "outputs": [
    {
     "name": "stdout",
     "output_type": "stream",
     "text": [
      "请输入一个正整数: 2\n",
      "2是素数\n"
     ]
    }
   ],
   "source": [
    "from math import sqrt\n",
    "\n",
    "num = int(input('请输入一个正整数: '))\n",
    "end = int(sqrt(num))\n",
    "is_prime = True\n",
    "for x in range(2, end + 1):\n",
    "    if num % x == 0:\n",
    "        is_prime = False\n",
    "        break\n",
    "if is_prime and num != 1:\n",
    "    print('%d是素数' % num)\n",
    "else:\n",
    "    print('%d不是素数' % num)"
   ]
  },
  {
   "cell_type": "code",
   "execution_count": 24,
   "metadata": {},
   "outputs": [
    {
     "name": "stdout",
     "output_type": "stream",
     "text": [
      "请输入第一个正整数：6\n",
      "请输入第二个正整数：36\n",
      "最大公约数为： 6\n",
      "最小公倍数为： 36\n"
     ]
    }
   ],
   "source": [
    "'''输入两个正整数，计算最大公约数和最小公倍数。'''\n",
    "m=int(input('请输入第一个正整数：'))\n",
    "n=int(input('请输入第二个正整数：'))\n",
    "'''range()也可上下限颠倒，步长取-1.'''\n",
    "for i in range(1,min(m,n)+1): \n",
    "    if m%i==0 and n%i==0:\n",
    "        number1=i\n",
    "print('最大公约数为：',number1)\n",
    "for j in range(1,100):\n",
    "    number2=j*m\n",
    "    if number2 % n ==0:\n",
    "        print('最小公倍数为：',number2)\n",
    "        break\n",
    "    "
   ]
  },
  {
   "cell_type": "code",
   "execution_count": 20,
   "metadata": {},
   "outputs": [
    {
     "name": "stdout",
     "output_type": "stream",
     "text": [
      "x = 36\n",
      "y = 6\n",
      "6和36的最大公约数是6\n",
      "6和36的最小公倍数是36\n"
     ]
    }
   ],
   "source": [
    "x = int(input('x = '))\n",
    "y = int(input('y = '))\n",
    "if x > y:\n",
    "    x, y = y, x\n",
    "for factor in range(x, 0, -1):\n",
    "    if x % factor == 0 and y % factor == 0:\n",
    "        print('%d和%d的最大公约数是%d' % (x, y, factor))\n",
    "        print('%d和%d的最小公倍数是%d' % (x, y, x * y // factor))\n",
    "        break"
   ]
  },
  {
   "cell_type": "code",
   "execution_count": 25,
   "metadata": {},
   "outputs": [
    {
     "name": "stdout",
     "output_type": "stream",
     "text": [
      "* \n",
      "* * \n",
      "* * * \n",
      "* * * * \n",
      "* * * * * \n"
     ]
    }
   ],
   "source": [
    "'''打印各种三角形图案'''\n",
    "for i in range(1,6):\n",
    "    for j in range(1,i+1):\n",
    "        print('*',end=' ')\n",
    "    print()"
   ]
  },
  {
   "cell_type": "code",
   "execution_count": 34,
   "metadata": {},
   "outputs": [
    {
     "name": "stdout",
     "output_type": "stream",
     "text": [
      "        * \n",
      "      * * \n",
      "    * * * \n",
      "  * * * * \n",
      "* * * * * \n"
     ]
    }
   ],
   "source": [
    "for i in range(1,6):\n",
    "    for j in range(1,6):\n",
    "        if j<=5-i:\n",
    "           print(' ',end=' ')\n",
    "        else:\n",
    "            print('*',end=' ')\n",
    "    print()"
   ]
  },
  {
   "cell_type": "code",
   "execution_count": 3,
   "metadata": {},
   "outputs": [
    {
     "name": "stdout",
     "output_type": "stream",
     "text": [
      "        * \n",
      "      * * \n",
      "    * * * \n",
      "  * * * * \n",
      "* * * * * \n"
     ]
    }
   ],
   "source": [
    "for i in range(1,6):\n",
    "    for j in range(1,6-i):\n",
    "        print(' ',end=' ')\n",
    "    for j in range(1,i+1):\n",
    "        print('*',end=' ')\n",
    "    print()"
   ]
  },
  {
   "cell_type": "code",
   "execution_count": 2,
   "metadata": {},
   "outputs": [
    {
     "name": "stdout",
     "output_type": "stream",
     "text": [
      "        * \n",
      "      * * * \n",
      "    * * * * * \n",
      "  * * * * * * * \n",
      "* * * * * * * * * \n"
     ]
    }
   ],
   "source": [
    "for i in range(1,6):\n",
    "    for j in range(1,6 - i):\n",
    "        print(' ', end=' ')\n",
    "    for j in range(1,2 * i):\n",
    "        print('*', end=' ')\n",
    "    print()"
   ]
  },
  {
   "cell_type": "code",
   "execution_count": 52,
   "metadata": {},
   "outputs": [
    {
     "name": "stdout",
     "output_type": "stream",
     "text": [
      "请输入一个非负整数n。5\n",
      "n!= 120\n"
     ]
    }
   ],
   "source": [
    "'''输入非负整数n计算n!'''\n",
    "n=int(input('请输入一个非负整数n。'))\n",
    "result=1\n",
    "while n>=1:\n",
    "    result*=n\n",
    "    n-=1\n",
    "print('n!=',result)"
   ]
  }
 ],
 "metadata": {
  "kernelspec": {
   "display_name": "Python 3",
   "language": "python",
   "name": "python3"
  },
  "language_info": {
   "codemirror_mode": {
    "name": "ipython",
    "version": 3
   },
   "file_extension": ".py",
   "mimetype": "text/x-python",
   "name": "python",
   "nbconvert_exporter": "python",
   "pygments_lexer": "ipython3",
   "version": "3.7.3"
  }
 },
 "nbformat": 4,
 "nbformat_minor": 2
}
